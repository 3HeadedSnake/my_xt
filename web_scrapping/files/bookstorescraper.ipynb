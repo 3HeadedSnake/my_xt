{
 "cells": [
  {
   "cell_type": "code",
   "execution_count": 8,
   "metadata": {},
   "outputs": [],
   "source": [
    "# Imports\n",
    "from bs4 import BeautifulSoup as bs4\n",
    "import requests\n",
    "import pandas as pd"
   ]
  },
  {
   "cell_type": "code",
   "execution_count": 9,
   "metadata": {},
   "outputs": [],
   "source": [
    "pages=[]\n",
    "prices=[]\n",
    "stars=[]\n",
    "titles=[]\n",
    "urlss=[]\n",
    "\n",
    "pages_to_scrape=5"
   ]
  },
  {
   "cell_type": "code",
   "execution_count": 12,
   "metadata": {},
   "outputs": [],
   "source": [
    "for i in range(1,pages_to_scrape+1):\n",
    "    url = ('http://books.toscrape.com/catalogue/page-{}.html').format(i)\n",
    "    pages.append(url)\n",
    "for item in pages:\n",
    "    page = requests.get(item)\n",
    "    soup = bs4(page.text, 'html.parser')\n",
    "    for i in soup.findAll('h3'):\n",
    "        ttl=i.getText()\n",
    "        titles.append(ttl)\n",
    "    for j in soup.findAll('p', class_='price_color'):\n",
    "        price=j.getText()\n",
    "        prices.append(price)\n",
    "    for s in soup.findAll('p', class_='star-rating'):\n",
    "        for k,v in s.attrs.items():\n",
    "            star =v[1]\n",
    "            stars.append(star)\n",
    "    divs =soup.findAll('div', class_='image_container')\n",
    "    for thumbs in divs:\n",
    "        tgs=thumbs.find('img',class_='thumbnail')\n",
    "        urls='http://books.toscrape.com/'+str(tgs['src'])\n",
    "        newurls=urls.replace(\"../\",\"\")\n",
    "        urlss.append(newurls)\n",
    "data={'Title': titles, 'Prices': prices, 'Stars':stars, \"URLs\":urlss}\n",
    "df=pd.DataFrame(data=data)\n",
    "df.index+=1"
   ]
  },
  {
   "cell_type": "code",
   "execution_count": 14,
   "metadata": {},
   "outputs": [
    {
     "data": {
      "text/html": [
       "<div>\n",
       "<style scoped>\n",
       "    .dataframe tbody tr th:only-of-type {\n",
       "        vertical-align: middle;\n",
       "    }\n",
       "\n",
       "    .dataframe tbody tr th {\n",
       "        vertical-align: top;\n",
       "    }\n",
       "\n",
       "    .dataframe thead th {\n",
       "        text-align: right;\n",
       "    }\n",
       "</style>\n",
       "<table border=\"1\" class=\"dataframe\">\n",
       "  <thead>\n",
       "    <tr style=\"text-align: right;\">\n",
       "      <th></th>\n",
       "      <th>Title</th>\n",
       "      <th>Prices</th>\n",
       "      <th>Stars</th>\n",
       "      <th>URLs</th>\n",
       "    </tr>\n",
       "  </thead>\n",
       "  <tbody>\n",
       "    <tr>\n",
       "      <th>1</th>\n",
       "      <td>A Light in the ...</td>\n",
       "      <td>Â£51.77</td>\n",
       "      <td>Three</td>\n",
       "      <td>http://books.toscrape.com/media/cache/2c/da/2c...</td>\n",
       "    </tr>\n",
       "    <tr>\n",
       "      <th>2</th>\n",
       "      <td>Tipping the Velvet</td>\n",
       "      <td>Â£53.74</td>\n",
       "      <td>One</td>\n",
       "      <td>http://books.toscrape.com/media/cache/26/0c/26...</td>\n",
       "    </tr>\n",
       "    <tr>\n",
       "      <th>3</th>\n",
       "      <td>Soumission</td>\n",
       "      <td>Â£50.10</td>\n",
       "      <td>One</td>\n",
       "      <td>http://books.toscrape.com/media/cache/3e/ef/3e...</td>\n",
       "    </tr>\n",
       "    <tr>\n",
       "      <th>4</th>\n",
       "      <td>Sharp Objects</td>\n",
       "      <td>Â£47.82</td>\n",
       "      <td>Four</td>\n",
       "      <td>http://books.toscrape.com/media/cache/32/51/32...</td>\n",
       "    </tr>\n",
       "    <tr>\n",
       "      <th>5</th>\n",
       "      <td>Sapiens: A Brief History ...</td>\n",
       "      <td>Â£54.23</td>\n",
       "      <td>Five</td>\n",
       "      <td>http://books.toscrape.com/media/cache/be/a5/be...</td>\n",
       "    </tr>\n",
       "  </tbody>\n",
       "</table>\n",
       "</div>"
      ],
      "text/plain": [
       "                          Title   Prices  Stars  \\\n",
       "1            A Light in the ...  Â£51.77  Three   \n",
       "2            Tipping the Velvet  Â£53.74    One   \n",
       "3                    Soumission  Â£50.10    One   \n",
       "4                 Sharp Objects  Â£47.82   Four   \n",
       "5  Sapiens: A Brief History ...  Â£54.23   Five   \n",
       "\n",
       "                                                URLs  \n",
       "1  http://books.toscrape.com/media/cache/2c/da/2c...  \n",
       "2  http://books.toscrape.com/media/cache/26/0c/26...  \n",
       "3  http://books.toscrape.com/media/cache/3e/ef/3e...  \n",
       "4  http://books.toscrape.com/media/cache/32/51/32...  \n",
       "5  http://books.toscrape.com/media/cache/be/a5/be...  "
      ]
     },
     "execution_count": 14,
     "metadata": {},
     "output_type": "execute_result"
    }
   ],
   "source": [
    "df.head()"
   ]
  },
  {
   "cell_type": "code",
   "execution_count": null,
   "metadata": {},
   "outputs": [],
   "source": []
  }
 ],
 "metadata": {
  "kernelspec": {
   "display_name": "Python 3.8.2 64-bit",
   "language": "python",
   "name": "python38264bite08b19701e70444c8831d8d877adc198"
  },
  "language_info": {
   "codemirror_mode": {
    "name": "ipython",
    "version": 3
   },
   "file_extension": ".py",
   "mimetype": "text/x-python",
   "name": "python",
   "nbconvert_exporter": "python",
   "pygments_lexer": "ipython3",
   "version": "3.8.5"
  }
 },
 "nbformat": 4,
 "nbformat_minor": 4
}
